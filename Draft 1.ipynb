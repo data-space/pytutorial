{
 "cells": [
  {
   "cell_type": "markdown",
   "metadata": {},
   "source": [
    "Feel free to change!\n",
    "Contents (rough draft)\n",
    "\n",
    "Context/Why python?\n",
    "Installation-version?/jupyter/anaconda\n",
    "Basic Programming concepts for newbie\n",
    "Syntax (Python specific)\n",
    "Datatypes-list/data structure\n",
    "Packages for DS -> BAS video and slides,\n",
    "Dataset (Easy to \"get\" dataset, not too large, can deal with missing values)\n",
    "Numpy\n",
    "\n",
    "Documentation: Slides/html equivalent\n",
    "- by sections\n",
    "- Original content\n",
    "- references\n",
    "\n",
    "Video: short, intro and at some points, 90 seconds. Videos do not necessarily talk about content, to capture interests\n",
    "\n",
    "Action plan\n",
    "- Everyone work together on first part (Context/Why python?) on Thursday at data lab"
   ]
  },
  {
   "cell_type": "code",
   "execution_count": null,
   "metadata": {
    "collapsed": true
   },
   "outputs": [],
   "source": []
  }
 ],
 "metadata": {
  "anaconda-cloud": {},
  "kernelspec": {
   "display_name": "Python [Root]",
   "language": "python",
   "name": "Python [Root]"
  },
  "language_info": {
   "codemirror_mode": {
    "name": "ipython",
    "version": 2
   },
   "file_extension": ".py",
   "mimetype": "text/x-python",
   "name": "python",
   "nbconvert_exporter": "python",
   "pygments_lexer": "ipython2",
   "version": "2.7.12"
  }
 },
 "nbformat": 4,
 "nbformat_minor": 0
}
